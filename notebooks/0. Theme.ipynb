{
 "cells": [
  {
   "cell_type": "markdown",
   "metadata": {},
   "source": [
    "### Custom Theme\n",
    "PlotlyLab includes a custom light-theme that is based on the [Plotly Branch & Style Guide](https://brand.plot.ly/)\n",
    "\n",
    "switch between the \"PlotlyLab Light\" and \"JupyterLab Light\" themes under \"Settings -> JupyterLab Theme\"\n",
    "\n",
    "This theme is implemented in the `plotlylab-light-theme` extension (https://github.com/plotly/plotlylab-light-theme)\n",
    "\n",
    "#### JupyterLab Light\n",
    "![](images/JupyterLabLight.png)\n",
    "\n",
    "#### PlotlyLab Light\n",
    "![](images/PlotlyLabLight.png)"
   ]
  },
  {
   "cell_type": "code",
   "execution_count": null,
   "metadata": {},
   "outputs": [],
   "source": []
  }
 ],
 "metadata": {
  "kernelspec": {
   "display_name": "Python 3",
   "language": "python",
   "name": "python3"
  },
  "language_info": {
   "codemirror_mode": {
    "name": "ipython",
    "version": 3
   },
   "file_extension": ".py",
   "mimetype": "text/x-python",
   "name": "python",
   "nbconvert_exporter": "python",
   "pygments_lexer": "ipython3",
   "version": "3.7.2"
  }
 },
 "nbformat": 4,
 "nbformat_minor": 2
}
