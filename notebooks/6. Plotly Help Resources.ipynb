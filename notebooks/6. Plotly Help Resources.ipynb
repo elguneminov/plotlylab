{
 "cells": [
  {
   "cell_type": "markdown",
   "metadata": {},
   "source": [
    "### Help resources\n",
    "The `jupyterlab_plotlyhelp` extension (https://github.com/plotly/jupyterlab_plotlyhelp) adds several plotly resources to the JupyterLab Help menu.\n",
    "\n",
    "With this, the plotly.py docs, plotly property reference, and Dash user guide can all be opened in JupyterLab tabs"
   ]
  },
  {
   "cell_type": "code",
   "execution_count": null,
   "metadata": {},
   "outputs": [],
   "source": []
  }
 ],
 "metadata": {
  "kernelspec": {
   "display_name": "Python 3",
   "language": "python",
   "name": "python3"
  },
  "language_info": {
   "codemirror_mode": {
    "name": "ipython",
    "version": 3
   },
   "file_extension": ".py",
   "mimetype": "text/x-python",
   "name": "python",
   "nbconvert_exporter": "python",
   "pygments_lexer": "ipython3",
   "version": "3.6.7"
  }
 },
 "nbformat": 4,
 "nbformat_minor": 2
}
