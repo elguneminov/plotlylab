{
 "cells": [
  {
   "cell_type": "markdown",
   "metadata": {},
   "source": [
    "## JupyterLab Chart Editor\n",
    "This example relies on the `jupyterlab-chart-editor` extension (https://github.com/plotly/jupyterlab-chart-editor)"
   ]
  },
  {
   "cell_type": "markdown",
   "metadata": {},
   "source": [
    "### Imports"
   ]
  },
  {
   "cell_type": "code",
   "execution_count": 1,
   "metadata": {},
   "outputs": [],
   "source": [
    "import plotly.graph_objs as go\n",
    "import plotly.io as pio\n",
    "\n",
    "import pandas as pd"
   ]
  },
  {
   "cell_type": "markdown",
   "metadata": {},
   "source": [
    "### Load Dataset\n",
    "Load gapminder dataset for 1982"
   ]
  },
  {
   "cell_type": "code",
   "execution_count": 2,
   "metadata": {},
   "outputs": [
    {
     "data": {
      "text/html": [
       "<div>\n",
       "<style scoped>\n",
       "    .dataframe tbody tr th:only-of-type {\n",
       "        vertical-align: middle;\n",
       "    }\n",
       "\n",
       "    .dataframe tbody tr th {\n",
       "        vertical-align: top;\n",
       "    }\n",
       "\n",
       "    .dataframe thead th {\n",
       "        text-align: right;\n",
       "    }\n",
       "</style>\n",
       "<table border=\"1\" class=\"dataframe\">\n",
       "  <thead>\n",
       "    <tr style=\"text-align: right;\">\n",
       "      <th></th>\n",
       "      <th>country</th>\n",
       "      <th>year</th>\n",
       "      <th>pop</th>\n",
       "      <th>continent</th>\n",
       "      <th>lifeExp</th>\n",
       "      <th>gdpPercap</th>\n",
       "    </tr>\n",
       "  </thead>\n",
       "  <tbody>\n",
       "    <tr>\n",
       "      <th>30</th>\n",
       "      <td>Algeria</td>\n",
       "      <td>1982</td>\n",
       "      <td>20033753.0</td>\n",
       "      <td>Africa</td>\n",
       "      <td>61.368</td>\n",
       "      <td>5745.160213</td>\n",
       "    </tr>\n",
       "    <tr>\n",
       "      <th>42</th>\n",
       "      <td>Angola</td>\n",
       "      <td>1982</td>\n",
       "      <td>7016384.0</td>\n",
       "      <td>Africa</td>\n",
       "      <td>39.942</td>\n",
       "      <td>2756.953672</td>\n",
       "    </tr>\n",
       "    <tr>\n",
       "      <th>126</th>\n",
       "      <td>Benin</td>\n",
       "      <td>1982</td>\n",
       "      <td>3641603.0</td>\n",
       "      <td>Africa</td>\n",
       "      <td>50.904</td>\n",
       "      <td>1277.897616</td>\n",
       "    </tr>\n",
       "    <tr>\n",
       "      <th>162</th>\n",
       "      <td>Botswana</td>\n",
       "      <td>1982</td>\n",
       "      <td>970347.0</td>\n",
       "      <td>Africa</td>\n",
       "      <td>61.484</td>\n",
       "      <td>4551.142150</td>\n",
       "    </tr>\n",
       "    <tr>\n",
       "      <th>198</th>\n",
       "      <td>Burkina Faso</td>\n",
       "      <td>1982</td>\n",
       "      <td>6634596.0</td>\n",
       "      <td>Africa</td>\n",
       "      <td>48.122</td>\n",
       "      <td>807.198586</td>\n",
       "    </tr>\n",
       "  </tbody>\n",
       "</table>\n",
       "</div>"
      ],
      "text/plain": [
       "          country  year         pop continent  lifeExp    gdpPercap\n",
       "30        Algeria  1982  20033753.0    Africa   61.368  5745.160213\n",
       "42         Angola  1982   7016384.0    Africa   39.942  2756.953672\n",
       "126         Benin  1982   3641603.0    Africa   50.904  1277.897616\n",
       "162      Botswana  1982    970347.0    Africa   61.484  4551.142150\n",
       "198  Burkina Faso  1982   6634596.0    Africa   48.122   807.198586"
      ]
     },
     "execution_count": 2,
     "metadata": {},
     "output_type": "execute_result"
    }
   ],
   "source": [
    "data = pd.read_csv(\"https://raw.githubusercontent.com/plotly/datasets/master/gapminderDataFiveYear.csv\")\n",
    "df_1982 = data[data['year']==1982]\n",
    "df_1982 = df_1982.sort_values(['continent', 'country'])\n",
    "df_1982.head()"
   ]
  },
  {
   "cell_type": "markdown",
   "metadata": {},
   "source": [
    "### Create empty FigureWidget"
   ]
  },
  {
   "cell_type": "code",
   "execution_count": 3,
   "metadata": {},
   "outputs": [
    {
     "data": {
      "application/vnd.jupyter.widget-view+json": {
       "model_id": "146a0eaac2d04a22af1dac5992779143",
       "version_major": 2,
       "version_minor": 0
      },
      "text/plain": [
       "FigureWidget({\n",
       "    'data': [], 'layout': {}\n",
       "})"
      ]
     },
     "metadata": {},
     "output_type": "display_data"
    }
   ],
   "source": [
    "fig = go.FigureWidget()\n",
    "fig"
   ]
  },
  {
   "cell_type": "markdown",
   "metadata": {},
   "source": [
    "### Add scatter trace per continent"
   ]
  },
  {
   "cell_type": "code",
   "execution_count": 4,
   "metadata": {},
   "outputs": [],
   "source": [
    "for continent, continent_df in df_1982.groupby('continent'):\n",
    "    fig.add_scatter(x=continent_df.lifeExp,\n",
    "                    y=continent_df.gdpPercap,\n",
    "                    marker={'size': continent_df['pop'].tolist(), 'sizemode': 'area', 'sizeref': 200000},\n",
    "                    mode='markers',\n",
    "                    text=continent_df.country,\n",
    "                    name=continent)"
   ]
  },
  {
   "cell_type": "markdown",
   "metadata": {},
   "source": [
    "### Write figure to json file"
   ]
  },
  {
   "cell_type": "code",
   "execution_count": 5,
   "metadata": {},
   "outputs": [],
   "source": [
    "pio.write_json(fig, 'out/gapminder.plotly.json')"
   ]
  },
  {
   "cell_type": "markdown",
   "metadata": {},
   "source": [
    "### Edit with JupyterLab chart editor\n",
    "Right click on `out/gapminder.plotly.json` and \"Open With -> PlotlyEditor\"\n",
    "\n",
    "Make edits to the chart to add a title, axis titles, trace coloring, annotations, etc.  Then use \"File -> Save As\" to save modified figure as `out/gapminder-styled.plotly.json"
   ]
  },
  {
   "cell_type": "markdown",
   "metadata": {},
   "source": [
    "### Read modified figure back into Python"
   ]
  },
  {
   "cell_type": "code",
   "execution_count": 6,
   "metadata": {},
   "outputs": [
    {
     "data": {
      "application/vnd.jupyter.widget-view+json": {
       "model_id": "ad9a132a34f1469f96015448db81b90c",
       "version_major": 2,
       "version_minor": 0
      },
      "text/plain": [
       "FigureWidget({\n",
       "    'data': [{'hoverinfo': 'text',\n",
       "              'marker': {'line': {'width': 2},\n",
       "             …"
      ]
     },
     "metadata": {},
     "output_type": "display_data"
    }
   ],
   "source": [
    "fig_styled = pio.read_json('out/gapminder-styled.plotly.json',\n",
    "                           output_type='FigureWidget')\n",
    "fig_styled"
   ]
  },
  {
   "cell_type": "markdown",
   "metadata": {},
   "source": [
    "### Save edited figure to HTML"
   ]
  },
  {
   "cell_type": "code",
   "execution_count": 19,
   "metadata": {},
   "outputs": [],
   "source": [
    "# Save as standalone html\n",
    "from plotly.offline import plot\n",
    "plot(fig_styled, filename='out/gapminder-styled.html', auto_open=False);"
   ]
  },
  {
   "cell_type": "markdown",
   "metadata": {},
   "source": [
    "### Save edited figure as pdf"
   ]
  },
  {
   "cell_type": "code",
   "execution_count": 20,
   "metadata": {},
   "outputs": [],
   "source": [
    "# Save as image\n",
    "pio.write_image(fig_styled, 'out/gapminder-styled.pdf')"
   ]
  }
 ],
 "metadata": {
  "kernelspec": {
   "display_name": "Python 3",
   "language": "python",
   "name": "python3"
  },
  "language_info": {
   "codemirror_mode": {
    "name": "ipython",
    "version": 3
   },
   "file_extension": ".py",
   "mimetype": "text/x-python",
   "name": "python",
   "nbconvert_exporter": "python",
   "pygments_lexer": "ipython3",
   "version": "3.6.7"
  }
 },
 "nbformat": 4,
 "nbformat_minor": 2
}
