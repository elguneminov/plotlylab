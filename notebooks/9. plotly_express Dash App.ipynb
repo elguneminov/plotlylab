{
 "cells": [
  {
   "cell_type": "markdown",
   "metadata": {},
   "source": [
    "## Imports"
   ]
  },
  {
   "cell_type": "code",
   "execution_count": 1,
   "metadata": {},
   "outputs": [],
   "source": [
    "import plotly_express as px\n",
    "import dash\n",
    "import dash_html_components as html\n",
    "import dash_core_components as dcc\n",
    "from dash.dependencies import Input, Output"
   ]
  },
  {
   "cell_type": "markdown",
   "metadata": {},
   "source": [
    "## Prepare Data"
   ]
  },
  {
   "cell_type": "code",
   "execution_count": 2,
   "metadata": {},
   "outputs": [],
   "source": [
    "tips = px.data.tips()\n",
    "col_options = [dict(label=x, value=x) for x in tips.columns]\n",
    "dimensions = [\"x\", \"y\", \"color\", \"facet_col\", \"facet_row\"]"
   ]
  },
  {
   "cell_type": "markdown",
   "metadata": {},
   "source": [
    "## Build jupyterlab-dash app viewer"
   ]
  },
  {
   "cell_type": "code",
   "execution_count": 3,
   "metadata": {},
   "outputs": [],
   "source": [
    "from jupyterlab_dash import AppViewer\n",
    "viewer = AppViewer()"
   ]
  },
  {
   "cell_type": "markdown",
   "metadata": {},
   "source": [
    "## Build and display Dash app"
   ]
  },
  {
   "cell_type": "code",
   "execution_count": 4,
   "metadata": {},
   "outputs": [],
   "source": [
    "app = dash.Dash(\n",
    "    __name__, external_stylesheets=[\"https://codepen.io/chriddyp/pen/bWLwgP.css\"]\n",
    ")\n",
    "\n",
    "app.layout = html.Div(\n",
    "    [\n",
    "        html.H1(\"Demo: Plotly Express in Dash with Tips Dataset\"),\n",
    "        html.Div(\n",
    "            [\n",
    "                html.P([d + \":\", dcc.Dropdown(id=d, options=col_options)])\n",
    "                for d in dimensions\n",
    "            ],\n",
    "            style={\"width\": \"25%\", \"float\": \"left\"},\n",
    "        ),\n",
    "        dcc.Graph(id=\"graph\", style={\"width\": \"75%\", \"display\": \"inline-block\"}),\n",
    "    ]\n",
    ")\n",
    "\n",
    "\n",
    "@app.callback(Output(\"graph\", \"figure\"), [Input(d, \"value\") for d in dimensions])\n",
    "def make_figure(x, y, color, facet_col, facet_row):\n",
    "    return px.scatter(\n",
    "        tips,\n",
    "        x=x,\n",
    "        y=y,\n",
    "        color=color,\n",
    "        facet_col=facet_col,\n",
    "        facet_row=facet_row,\n",
    "        height=500)\n",
    "\n",
    "viewer.show(app)"
   ]
  },
  {
   "cell_type": "code",
   "execution_count": null,
   "metadata": {},
   "outputs": [],
   "source": []
  }
 ],
 "metadata": {
  "kernelspec": {
   "display_name": "Python 3",
   "language": "python",
   "name": "python3"
  },
  "language_info": {
   "codemirror_mode": {
    "name": "ipython",
    "version": 3
   },
   "file_extension": ".py",
   "mimetype": "text/x-python",
   "name": "python",
   "nbconvert_exporter": "python",
   "pygments_lexer": "ipython3",
   "version": "3.6.8"
  }
 },
 "nbformat": 4,
 "nbformat_minor": 2
}
